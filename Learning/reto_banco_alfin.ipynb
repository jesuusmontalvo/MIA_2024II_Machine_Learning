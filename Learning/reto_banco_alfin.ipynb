{
 "cells": [
  {
   "cell_type": "markdown",
   "id": "743323d9",
   "metadata": {},
   "source": [
    "## Introducción – Caso ejercicio"
   ]
  },
  {
   "cell_type": "markdown",
   "id": "00cd47f0",
   "metadata": {},
   "source": [
    "**Empresa de micromovilidad:**\n",
    "\n",
    "Luego de un exitoso lanzamiento en el mercado, ahora es el momento de expandir\n",
    "nuestras operaciones en Latam. Estamos enfrentando un gran desafío y queremos\n",
    "contar con el mejor talento para lograrlo."
   ]
  },
  {
   "cell_type": "markdown",
   "id": "0173a0f1",
   "metadata": {},
   "source": [
    "**Ejercicio 1: Análisis de Datos**"
   ]
  },
  {
   "cell_type": "markdown",
   "id": "99328752",
   "metadata": {},
   "source": [
    "En este ejercicio, recibirás un archivo .csv que contiene información sobre 30,000\n",
    "registros de transacciones. Aunque entender el significado de cada campo es parte del\n",
    "reto, te damos dos recomendaciones clave:\n",
    "1. Los campos \"id\" contienen identificadores únicos, en formato alfanumérico en\n",
    "lugar de nombres.\n",
    "2. Las horas están representadas en UTC, por lo que debes tener cuidado con los\n",
    "valores de precios, distancias y duración de las transacciones."
   ]
  },
  {
   "cell_type": "markdown",
   "id": "8df1750a",
   "metadata": {},
   "source": [
    "**¿Qué esperamos?**\n",
    "\n",
    "Queremos un análisis exhaustivo (no trivial) que nos ayude a tomar mejores decisiones.\n",
    "Te pedimos que nos presentes tu interpretación de los datos y realices propuestas\n",
    "basadas en tu análisis. Por ejemplo:\n",
    "* ¿Dónde y en qué horarios deberíamos desplegar nuestros recursos?\n",
    "* ¿Cómo es nuestra tasa de ocupación? ¿Cómo podríamos mejorarla?\n",
    "* ¿Cómo optimizar la eficiencia operativa de nuestros procesos?\n",
    "* ¿Nuestros clientes son lo suficientemente leales al servicio? Analiza hipótesis y conclusiones.\n",
    "* ¿Qué clientes deberíamos retener? ¿Qué clientes deberíamos reactivar?\n",
    "* Después de analizar estos datos, ¿qué plan de crecimiento o decisiones tomarías\n",
    "para fortalecer la operación?"
   ]
  },
  {
   "cell_type": "markdown",
   "id": "4bb6f009",
   "metadata": {},
   "source": [
    "## Solución"
   ]
  },
  {
   "cell_type": "markdown",
   "id": "632f6324",
   "metadata": {},
   "source": [
    "Verificamos que la versión de Python sea superior a Python 3.7"
   ]
  },
  {
   "cell_type": "code",
   "execution_count": 1,
   "id": "ba164e87",
   "metadata": {},
   "outputs": [],
   "source": [
    "import sys\n",
    "\n",
    "assert sys.version_info >= (3, 7)"
   ]
  },
  {
   "cell_type": "markdown",
   "id": "f320719f",
   "metadata": {},
   "source": [
    "Vamos a considerar Scikit-Learn superior a 1.0.1"
   ]
  },
  {
   "cell_type": "code",
   "execution_count": 2,
   "id": "6eb3bddb",
   "metadata": {},
   "outputs": [],
   "source": [
    "from packaging import version\n",
    "import sklearn \n",
    "\n",
    "assert version.parse(sklearn.__version__) >= version.parse(\"1.0.1\")"
   ]
  }
 ],
 "metadata": {
  "kernelspec": {
   "display_name": "Python 3",
   "language": "python",
   "name": "python3"
  },
  "language_info": {
   "codemirror_mode": {
    "name": "ipython",
    "version": 3
   },
   "file_extension": ".py",
   "mimetype": "text/x-python",
   "name": "python",
   "nbconvert_exporter": "python",
   "pygments_lexer": "ipython3",
   "version": "3.13.1"
  }
 },
 "nbformat": 4,
 "nbformat_minor": 5
}
